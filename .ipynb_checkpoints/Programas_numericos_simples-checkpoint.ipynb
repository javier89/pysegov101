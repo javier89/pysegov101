{
 "cells": [
  {
   "cell_type": "markdown",
   "metadata": {},
   "source": [
    "## Enumeración Exhautiva\n",
    "\n",
    "El siguiente codigo imprime la raíz cúbica de enteros, si existe, de un entero. Si la entrada no es un cubo perfecto, imprime un mensaje a tal efecto."
   ]
  },
  {
   "cell_type": "code",
   "execution_count": null,
   "metadata": {},
   "outputs": [],
   "source": [
    "x = int(input('Introduce un Entero: '))\n",
    "ans=0\n",
    "while ans ** 3 < abs(x):\n",
    "    ans = ans + 1\n",
    "if ans ** 3 != abs(x):\n",
    "    print (x, 'no es un cubo perfecto')\n",
    "else:\n",
    "    if x <0:\n",
    "        ans = -ans\n",
    "    print ('Raíz cubica de ', x, 'es', ans)"
   ]
  },
  {
   "cell_type": "markdown",
   "metadata": {},
   "source": [
    "Para que valores de X terminara este programa?\n",
    "\n",
    "La respuesta es todos los enteros esto se puede argumentar de manera bastante simple.\n",
    "\n",
    "    * El valor de la expresion ans ** 3 comienza en 0 y aumenta cada vez que pasa por el bucle.\n",
    "    * Cuando alcanza o supera abs(x), el bucle termina.\n",
    "    * Como abs(x) siempre es positivo, solo hay un número finito de iteraciones antes de que el bucle deba terminar\n",
    "\n",
    "Cada vez que escribes un bucle, deberías pensar en una función de disminución apropiada. Esta es una funcion que tiene las siguientes propiedades.\n",
    "\n",
    "    1.- Mapea un conjunto de variables de programa en un entero.\n",
    "    2.- Cuando el bucle se ingresa, su valor es no negativo.\n",
    "    3.- Cuando su valor es <= 0, el bucle termina\n",
    "    4.- Su valor disminuye cada vez que pasa el bucle"
   ]
  },
  {
   "cell_type": "markdown",
   "metadata": {},
   "source": [
    "Cuál es la función de decremento para el bucle en la figura 3.1? Es abs(x) - ans ** 3 "
   ]
  },
  {
   "cell_type": "code",
   "execution_count": null,
   "metadata": {},
   "outputs": [],
   "source": []
  }
 ],
 "metadata": {
  "kernelspec": {
   "display_name": "Python 3",
   "language": "python",
   "name": "python3"
  },
  "language_info": {
   "codemirror_mode": {
    "name": "ipython",
    "version": 3
   },
   "file_extension": ".py",
   "mimetype": "text/x-python",
   "name": "python",
   "nbconvert_exporter": "python",
   "pygments_lexer": "ipython3",
   "version": "3.7.1"
  }
 },
 "nbformat": 4,
 "nbformat_minor": 2
}
